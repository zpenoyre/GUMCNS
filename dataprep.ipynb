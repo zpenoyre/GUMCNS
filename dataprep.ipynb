{
 "cells": [
  {
   "cell_type": "markdown",
   "id": "given-radiation",
   "metadata": {},
   "source": [
    "# replicating the operations to generate the data in a notebook (unfinished)"
   ]
  },
  {
   "cell_type": "code",
   "execution_count": 129,
   "id": "departmental-knife",
   "metadata": {},
   "outputs": [
    {
     "name": "stdout",
     "output_type": "stream",
     "text": [
      "The autoreload extension is already loaded. To reload it, use:\n",
      "  %reload_ext autoreload\n"
     ]
    }
   ],
   "source": [
    "# optional but useful for debugging - reimports modules after editing and saving .py files\n",
    "%load_ext autoreload\n",
    "%autoreload 2"
   ]
  },
  {
   "cell_type": "code",
   "execution_count": 130,
   "id": "polish-feelings",
   "metadata": {},
   "outputs": [],
   "source": [
    "import numpy as np\n",
    "from datascripts import get_gums_binaries"
   ]
  },
  {
   "cell_type": "code",
   "execution_count": 135,
   "id": "equal-defense",
   "metadata": {},
   "outputs": [
    {
     "name": "stdout",
     "output_type": "stream",
     "text": [
      "INFO: Query finished. [astroquery.utils.tap.core]\n",
      "Query time: 1032s\n",
      "N sources:  1791606\n"
     ]
    },
    {
     "name": "stderr",
     "output_type": "stream",
     "text": [
      "100%|██████████| 1791606/1791606 [03:46<00:00, 7923.97it/s]\n"
     ]
    }
   ],
   "source": [
    "from datascripts import get_gums_binaries\n",
    "#for 50 pc takes me 16s and returns 32971 sources\n",
    "#for 100 pc takes me 144s and returns 249025 sources\n",
    "#for 200 pc takes me 1032s and returns 1791606 sources\n",
    "max_dist=200\n",
    "get_gums_binaries.get_gums_binaries(max_dist=max_dist)"
   ]
  },
  {
   "cell_type": "code",
   "execution_count": 136,
   "id": "visible-joseph",
   "metadata": {},
   "outputs": [
    {
     "name": "stdout",
     "output_type": "stream",
     "text": [
      "mag_dist: 200\n",
      "age\n",
      "alphafe\n",
      "barycentric_distance\n",
      "binary\n",
      "dec\n",
      "feh\n",
      "inclination\n",
      "longitude_ascending_node\n",
      "periastron_argument\n",
      "pmdec\n",
      "pmra\n",
      "population\n",
      "primary_logg\n",
      "primary_mag_rvs\n",
      "primary_mass\n",
      "primary_mean_absolute_v\n",
      "primary_radius\n",
      "primary_spectral_type\n",
      "primary_teff\n",
      "primary_v_i\n",
      "ra\n",
      "radial_velocity\n",
      "secondary_logg\n",
      "secondary_mag_rvs\n",
      "secondary_mass\n",
      "secondary_mean_absolute_v\n",
      "secondary_radius\n",
      "secondary_spectral_type\n",
      "secondary_teff\n",
      "secondary_v_i\n",
      "system_id\n",
      "primary_mag_g\n",
      "primary_mag_bp\n",
      "primary_mag_rp\n",
      "secondary_mag_g\n",
      "secondary_mag_bp\n",
      "secondary_mag_rp\n",
      "parallax\n",
      "period\n",
      "l\n",
      "q\n",
      "a\n",
      "e\n",
      "vtheta\n",
      "vphi\n",
      "vomega\n",
      "tperi\n",
      "unresolved\n",
      "primary_hr_class\n",
      "secondary_hr_class\n"
     ]
    }
   ],
   "source": [
    "from datascripts import change_gums_parameters\n",
    "change_gums_parameters.change_gums_parameters(max_dist=max_dist)"
   ]
  },
  {
   "cell_type": "code",
   "execution_count": 137,
   "id": "dated-episode",
   "metadata": {},
   "outputs": [],
   "source": [
    "# this version of fit_gums is v. inefficient\n",
    "# calls astropy.barycenter... many times\n",
    "# no multithreading|\n",
    "from datascripts import fit_gums"
   ]
  },
  {
   "cell_type": "code",
   "execution_count": 138,
   "id": "thick-blake",
   "metadata": {},
   "outputs": [
    {
     "name": "stdout",
     "output_type": "stream",
     "text": [
      "mag_dist: 200\n",
      "Getting earth barycenter coordinates...\n"
     ]
    },
    {
     "name": "stderr",
     "output_type": "stream",
     "text": [
      "  0%|          | 1/55371 [00:00<2:01:26,  7.60it/s]"
     ]
    },
    {
     "name": "stdout",
     "output_type": "stream",
     "text": [
      "dict_keys(['system_id', 'astrometric_matched_transits_dr2', 'astrometric_matched_transits_edr3', 'visibility_periods_used_dr2', 'visibility_periods_used_edr3', 'astrometric_n_obs_al_dr2', 'astrometric_n_obs_al_edr3', 'astrometric_params_solved_dr2', 'astrometric_params_solved_edr3', 'ra_dr2', 'ra_edr3', 'ra_error_dr2', 'ra_error_edr3', 'dec_dr2', 'dec_edr3', 'dec_error_dr2', 'dec_error_edr3', 'ra_dec_corr_dr2', 'ra_dec_corr_edr3', 'parallax_dr2', 'parallax_edr3', 'parallax_error_dr2', 'parallax_error_edr3', 'ra_parallax_corr_dr2', 'ra_parallax_corr_edr3', 'dec_parallax_corr_dr2', 'dec_parallax_corr_edr3', 'pmra_dr2', 'pmra_edr3', 'pmra_error_dr2', 'pmra_error_edr3', 'ra_pmra_corr_dr2', 'ra_pmra_corr_edr3', 'dec_pmra_corr_dr2', 'dec_pmra_corr_edr3', 'parallax_pmra_corr_dr2', 'parallax_pmra_corr_edr3', 'pmdec_dr2', 'pmdec_edr3', 'pmdec_error_dr2', 'pmdec_error_edr3', 'ra_pmdec_corr_dr2', 'ra_pmdec_corr_edr3', 'dec_pmdec_corr_dr2', 'dec_pmdec_corr_edr3', 'parallax_pmdec_corr_dr2', 'parallax_pmdec_corr_edr3', 'pmra_pmdec_corr_dr2', 'pmra_pmdec_corr_edr3', 'astrometric_excess_noise_dr2', 'astrometric_excess_noise_edr3', 'astrometric_chi2_al_dr2', 'astrometric_chi2_al_edr3', 'astrometric_n_good_obs_al_dr2', 'astrometric_n_good_obs_al_edr3', 'UWE_dr2', 'UWE_edr3', 'max_rv_dr2', 'max_rv_edr3', 'min_rv_dr2', 'min_rv_edr3', 'max_seperation_dr2', 'max_seperation_edr3', 'min_seperation_dr2', 'min_seperation_edr3'])\n",
      "resolved primary\n"
     ]
    },
    {
     "name": "stderr",
     "output_type": "stream",
     "text": [
      "100%|██████████| 55371/55371 [1:01:33<00:00, 14.99it/s]\n",
      "  0%|          | 2/55371 [00:00<58:30, 15.77it/s]"
     ]
    },
    {
     "name": "stdout",
     "output_type": "stream",
     "text": [
      "resolved secondary\n"
     ]
    },
    {
     "name": "stderr",
     "output_type": "stream",
     "text": [
      "100%|██████████| 55371/55371 [1:01:03<00:00, 15.11it/s]\n",
      "  0%|          | 2/826736 [00:00<11:56:15, 19.24it/s]"
     ]
    },
    {
     "name": "stdout",
     "output_type": "stream",
     "text": [
      "everything else\n"
     ]
    },
    {
     "name": "stderr",
     "output_type": "stream",
     "text": [
      "100%|██████████| 826736/826736 [15:11:46<00:00, 15.11it/s]   \n"
     ]
    }
   ],
   "source": [
    "fit_gums.fit_gums(max_dist=max_dist)"
   ]
  },
  {
   "cell_type": "code",
   "execution_count": null,
   "id": "congressional-lobby",
   "metadata": {},
   "outputs": [],
   "source": []
  },
  {
   "cell_type": "code",
   "execution_count": null,
   "id": "falling-present",
   "metadata": {},
   "outputs": [],
   "source": []
  }
 ],
 "metadata": {
  "kernelspec": {
   "display_name": "Python 3",
   "language": "python",
   "name": "python3"
  },
  "language_info": {
   "codemirror_mode": {
    "name": "ipython",
    "version": 3
   },
   "file_extension": ".py",
   "mimetype": "text/x-python",
   "name": "python",
   "nbconvert_exporter": "python",
   "pygments_lexer": "ipython3",
   "version": "3.7.7"
  }
 },
 "nbformat": 4,
 "nbformat_minor": 5
}
